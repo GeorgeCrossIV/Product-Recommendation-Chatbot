{
  "cells": [
    {
      "cell_type": "markdown",
      "metadata": {
        "id": "view-in-github",
        "colab_type": "text"
      },
      "source": [
        "<a href=\"https://colab.research.google.com/github/GeorgeCrossIV/Product-Recommendation-Chatbot/blob/main/Vector_Search_Product_Recommendation.ipynb\" target=\"_parent\"><img src=\"https://colab.research.google.com/assets/colab-badge.svg\" alt=\"Open In Colab\"/></a>"
      ]
    },
    {
      "cell_type": "markdown",
      "id": "8ee0e82f-95fa-4efa-84e3-9873d4dcdaf1",
      "metadata": {
        "id": "8ee0e82f-95fa-4efa-84e3-9873d4dcdaf1"
      },
      "source": [
        "# Getting Started with this notebook"
      ]
    },
    {
      "cell_type": "markdown",
      "id": "58bc1d2f-7039-4d2a-950c-ff3686013c55",
      "metadata": {
        "id": "58bc1d2f-7039-4d2a-950c-ff3686013c55"
      },
      "source": [
        "- Create a new vector search enabled database in Astra. [astra.datastax.com](https://astra.datastax.com)\n",
        "- For the easy path, name the keyspace in that database \"vector_preview\" (otherwise be prepared to modify the CQL in this notebook)\n",
        "- Create a token with permissions to create tables\n",
        "- Download your secure-connect-bundle zip file.\n",
        "- Download the [sample data file from here](https://drive.google.com/file/d/1KlXnYy6CECoQz7wjf-728ci_unpMSxvF/view?usp=sharing)\n",
        "- When you open this notebook in Google Colab or your own notebook server, drag-and-drop the secure connect bundle and ProductDataset.csv into the File Browser of the notebook\n",
        "- Set up an open.ai API account and generate a key\n",
        "- Update the Keys & Environment Variables cell in the notebook with information from the token you generated and the name of your secure connect bundle file."
      ]
    },
    {
      "cell_type": "markdown",
      "id": "2c1f964d-aa85-4b2f-a04c-71c295fe9d1e",
      "metadata": {
        "id": "2c1f964d-aa85-4b2f-a04c-71c295fe9d1e"
      },
      "source": [
        "# Setup"
      ]
    },
    {
      "cell_type": "code",
      "execution_count": null,
      "id": "3e57b18c-275c-40bf-8a71-bbb0c94b2a7b",
      "metadata": {
        "scrolled": true,
        "id": "3e57b18c-275c-40bf-8a71-bbb0c94b2a7b"
      },
      "outputs": [],
      "source": [
        "!pip install openai pandas jupyter-datatables cassandra-driver"
      ]
    },
    {
      "cell_type": "markdown",
      "id": "25d08ec4-0e7b-4819-933f-43ed5ff95e48",
      "metadata": {
        "id": "25d08ec4-0e7b-4819-933f-43ed5ff95e48"
      },
      "source": [
        "# Imports"
      ]
    },
    {
      "cell_type": "code",
      "execution_count": 2,
      "id": "01da99af-da9b-4f38-b841-d802ff23bf2f",
      "metadata": {
        "id": "01da99af-da9b-4f38-b841-d802ff23bf2f"
      },
      "outputs": [],
      "source": [
        "from cassandra.cluster import Cluster\n",
        "from cassandra.auth import PlainTextAuthProvider\n",
        "from cassandra.query import dict_factory\n",
        "from cassandra.query import SimpleStatement\n",
        "from google.colab import userdata\n",
        "import openai\n",
        "import numpy\n",
        "import pandas as pd"
      ]
    },
    {
      "cell_type": "markdown",
      "id": "b7a93b64-e9e9-41d1-95c9-dc9194a5ec8d",
      "metadata": {
        "id": "b7a93b64-e9e9-41d1-95c9-dc9194a5ec8d"
      },
      "source": [
        "# Keys & Environment Variables"
      ]
    },
    {
      "cell_type": "code",
      "execution_count": 3,
      "id": "ebeb1df7-2dcc-4ba6-a941-49c68631bd49",
      "metadata": {
        "id": "ebeb1df7-2dcc-4ba6-a941-49c68631bd49"
      },
      "outputs": [],
      "source": [
        "# keys and tokens here\n",
        "openai_api_key = userdata.get('openai_api_key')\n",
        "openai.api_key = openai_api_key\n",
        "cass_user = userdata.get('cass_user')\n",
        "cass_pw = userdata.get('cass_pw')\n",
        "scb_path = '/content/secure-connect-cassio-db.zip'\n",
        "keyspace=\"chatbot\"\n",
        "table=\"products_table\""
      ]
    },
    {
      "cell_type": "markdown",
      "id": "a96369f4-d311-44c2-8469-f960a2a8718a",
      "metadata": {
        "id": "a96369f4-d311-44c2-8469-f960a2a8718a"
      },
      "source": [
        "# Select a model to compute embeddings"
      ]
    },
    {
      "cell_type": "code",
      "execution_count": 4,
      "id": "553fece5-8154-4e18-9610-ff4999bfe171",
      "metadata": {
        "id": "553fece5-8154-4e18-9610-ff4999bfe171"
      },
      "outputs": [],
      "source": [
        "model_id = \"text-embedding-ada-002\""
      ]
    },
    {
      "cell_type": "markdown",
      "id": "bafd4fc1-84a4-4384-bb3e-42ecffab2455",
      "metadata": {
        "id": "bafd4fc1-84a4-4384-bb3e-42ecffab2455"
      },
      "source": [
        "# Connect to the Cluster"
      ]
    },
    {
      "cell_type": "code",
      "execution_count": 5,
      "id": "8c5b0058-391d-421e-81a0-eb2f7fe684df",
      "metadata": {
        "id": "8c5b0058-391d-421e-81a0-eb2f7fe684df",
        "colab": {
          "base_uri": "https://localhost:8080/"
        },
        "outputId": "6c4b46da-225e-499c-b441-280999cb719f"
      },
      "outputs": [
        {
          "output_type": "execute_result",
          "data": {
            "text/plain": [
              "<cassandra.cluster.Session at 0x7a54d3f612d0>"
            ]
          },
          "metadata": {},
          "execution_count": 5
        }
      ],
      "source": [
        "cloud_config= {\n",
        "  'secure_connect_bundle': scb_path\n",
        "}\n",
        "auth_provider = PlainTextAuthProvider(cass_user, cass_pw)\n",
        "cluster = Cluster(cloud=cloud_config, auth_provider=auth_provider, protocol_version=4)\n",
        "session = cluster.connect()\n",
        "session.set_keyspace('vector_preview')\n",
        "session"
      ]
    },
    {
      "cell_type": "markdown",
      "id": "0670b30f-927f-47da-b71d-0a99092c3f58",
      "metadata": {
        "id": "0670b30f-927f-47da-b71d-0a99092c3f58"
      },
      "source": [
        "# Drop / Create Schema"
      ]
    },
    {
      "cell_type": "code",
      "execution_count": null,
      "id": "acf0fd4c-8367-4d5f-983f-5aa7d14a8948",
      "metadata": {
        "colab": {
          "base_uri": "https://localhost:8080/"
        },
        "id": "acf0fd4c-8367-4d5f-983f-5aa7d14a8948",
        "outputId": "e4b06ba0-3cb0-4d5a-b767-52c7c0dd9fd9"
      },
      "outputs": [
        {
          "output_type": "execute_result",
          "data": {
            "text/plain": [
              "<cassandra.cluster.ResultSet at 0x7fa226aa51e0>"
            ]
          },
          "metadata": {},
          "execution_count": 6
        }
      ],
      "source": [
        "# only use this to reset the schema\n",
        "session.execute(f\"\"\"DROP INDEX IF EXISTS {keyspace}.openai_desc\"\"\")\n",
        "session.execute(f\"\"\"DROP TABLE IF EXISTS {keyspace}.{table}\"\"\")"
      ]
    },
    {
      "cell_type": "code",
      "execution_count": null,
      "id": "a941c487-1c6b-4f46-a0a3-305a95931d82",
      "metadata": {
        "colab": {
          "base_uri": "https://localhost:8080/"
        },
        "id": "a941c487-1c6b-4f46-a0a3-305a95931d82",
        "outputId": "f5252694-6e2a-4a72-ca9c-57d0a06bbb01"
      },
      "outputs": [
        {
          "output_type": "execute_result",
          "data": {
            "text/plain": [
              "<cassandra.cluster.ResultSet at 0x7fa238dbf820>"
            ]
          },
          "metadata": {},
          "execution_count": 7
        }
      ],
      "source": [
        "# # Create Table\n",
        "session.execute(f\"\"\"\n",
        "CREATE TABLE IF NOT EXISTS {keyspace}.{table}\n",
        "(product_id int,\n",
        " chunk_id int,\n",
        "\n",
        " product_name text,\n",
        " description text,\n",
        " price text,\n",
        "\n",
        " openai_description_embedding vector<float, 1536>,\n",
        " minilm_description_embedding vector<float, 384>,\n",
        "\n",
        " PRIMARY KEY (product_id, chunk_id))\n",
        " \"\"\")\n",
        "\n",
        "# # Create Index\n",
        "session.execute(f\"\"\"CREATE CUSTOM INDEX IF NOT EXISTS openai_desc ON {keyspace}.{table} (openai_description_embedding) USING 'org.apache.cassandra.index.sai.StorageAttachedIndex'\"\"\")"
      ]
    },
    {
      "cell_type": "markdown",
      "id": "c1fe256f-9efb-41f0-8803-d99696c6089b",
      "metadata": {
        "id": "c1fe256f-9efb-41f0-8803-d99696c6089b"
      },
      "source": [
        "# Load the table with data and create text embeddings"
      ]
    },
    {
      "cell_type": "code",
      "source": [
        " !wget https://raw.githubusercontent.com/GeorgeCrossIV/Langchain-Retrieval-Augmentation-with-CASSIO/main/20220301.simple.csv"
      ],
      "metadata": {
        "id": "EizLu49K5ppu"
      },
      "id": "EizLu49K5ppu",
      "execution_count": null,
      "outputs": []
    },
    {
      "cell_type": "code",
      "execution_count": 6,
      "id": "cec8fd49-90b7-4f8f-b6e8-50a34896e452",
      "metadata": {
        "id": "cec8fd49-90b7-4f8f-b6e8-50a34896e452",
        "colab": {
          "base_uri": "https://localhost:8080/",
          "height": 424
        },
        "outputId": "eaf9750b-e2ba-4687-96cc-f5595fa7ce38"
      },
      "outputs": [
        {
          "output_type": "execute_result",
          "data": {
            "text/plain": [
              "      product_id                                       product_name  \\\n",
              "0            552                          Sony Turntable - PSLX350H   \n",
              "1            580  Bose Acoustimass 5 Series III Speaker System -...   \n",
              "2           4696                             Sony Switcher - SBV40S   \n",
              "3           5644                   Sony 5 Disc CD Player - CDPCE375   \n",
              "4           6284  Bose 27028 161 Bookshelf Pair Speakers In Whit...   \n",
              "...          ...                                                ...   \n",
              "1076       39088  Logitech Cordless Desktop Wave Keyboard And Mo...   \n",
              "1077       39090             Mitsubishi DLP Black TV Stand - MBS73V   \n",
              "1078       39175  Logitech Digital Precision PC Gaming Headset -...   \n",
              "1079       39176  Logitech 2.1 Multimedia Silver Speaker System ...   \n",
              "1080       39179         Linksys Wireless-G Range Expander - WRE54G   \n",
              "\n",
              "                                            description    price  \n",
              "0     Sony Turntable - PSLX350H/ Belt Drive System/ ...      NaN  \n",
              "1     Bose Acoustimass 5 Series III Speaker System -...  $399.00  \n",
              "2     Sony Switcher - SBV40S/ Eliminates Disconnecti...   $49.00  \n",
              "3     Sony 5 Disc CD Player- CDPCE375/ 5 Disc Change...      NaN  \n",
              "4     Bose 161 Bookshelf Speakers In White - 161WH/ ...  $158.00  \n",
              "...                                                 ...      ...  \n",
              "1076  Logitech Cordless Desktop Wave Keyboard And Mo...   $79.00  \n",
              "1077  Mitsubishi DLP Black TV Stand - MBS73V/ Matchi...  $549.00  \n",
              "1078  Logitech Digital Precision PC Gaming Headset -...   $49.00  \n",
              "1079  Logitech 2.1 Multimedia Silver Speaker System ...      NaN  \n",
              "1080  Linksys Wireless-G Range Expander - WRE54G/ Su...   $99.00  \n",
              "\n",
              "[1081 rows x 4 columns]"
            ],
            "text/html": [
              "\n",
              "  <div id=\"df-b1818c9b-2127-4934-8b57-dac6d965b10e\" class=\"colab-df-container\">\n",
              "    <div>\n",
              "<style scoped>\n",
              "    .dataframe tbody tr th:only-of-type {\n",
              "        vertical-align: middle;\n",
              "    }\n",
              "\n",
              "    .dataframe tbody tr th {\n",
              "        vertical-align: top;\n",
              "    }\n",
              "\n",
              "    .dataframe thead th {\n",
              "        text-align: right;\n",
              "    }\n",
              "</style>\n",
              "<table border=\"1\" class=\"dataframe\">\n",
              "  <thead>\n",
              "    <tr style=\"text-align: right;\">\n",
              "      <th></th>\n",
              "      <th>product_id</th>\n",
              "      <th>product_name</th>\n",
              "      <th>description</th>\n",
              "      <th>price</th>\n",
              "    </tr>\n",
              "  </thead>\n",
              "  <tbody>\n",
              "    <tr>\n",
              "      <th>0</th>\n",
              "      <td>552</td>\n",
              "      <td>Sony Turntable - PSLX350H</td>\n",
              "      <td>Sony Turntable - PSLX350H/ Belt Drive System/ ...</td>\n",
              "      <td>NaN</td>\n",
              "    </tr>\n",
              "    <tr>\n",
              "      <th>1</th>\n",
              "      <td>580</td>\n",
              "      <td>Bose Acoustimass 5 Series III Speaker System -...</td>\n",
              "      <td>Bose Acoustimass 5 Series III Speaker System -...</td>\n",
              "      <td>$399.00</td>\n",
              "    </tr>\n",
              "    <tr>\n",
              "      <th>2</th>\n",
              "      <td>4696</td>\n",
              "      <td>Sony Switcher - SBV40S</td>\n",
              "      <td>Sony Switcher - SBV40S/ Eliminates Disconnecti...</td>\n",
              "      <td>$49.00</td>\n",
              "    </tr>\n",
              "    <tr>\n",
              "      <th>3</th>\n",
              "      <td>5644</td>\n",
              "      <td>Sony 5 Disc CD Player - CDPCE375</td>\n",
              "      <td>Sony 5 Disc CD Player- CDPCE375/ 5 Disc Change...</td>\n",
              "      <td>NaN</td>\n",
              "    </tr>\n",
              "    <tr>\n",
              "      <th>4</th>\n",
              "      <td>6284</td>\n",
              "      <td>Bose 27028 161 Bookshelf Pair Speakers In Whit...</td>\n",
              "      <td>Bose 161 Bookshelf Speakers In White - 161WH/ ...</td>\n",
              "      <td>$158.00</td>\n",
              "    </tr>\n",
              "    <tr>\n",
              "      <th>...</th>\n",
              "      <td>...</td>\n",
              "      <td>...</td>\n",
              "      <td>...</td>\n",
              "      <td>...</td>\n",
              "    </tr>\n",
              "    <tr>\n",
              "      <th>1076</th>\n",
              "      <td>39088</td>\n",
              "      <td>Logitech Cordless Desktop Wave Keyboard And Mo...</td>\n",
              "      <td>Logitech Cordless Desktop Wave Keyboard And Mo...</td>\n",
              "      <td>$79.00</td>\n",
              "    </tr>\n",
              "    <tr>\n",
              "      <th>1077</th>\n",
              "      <td>39090</td>\n",
              "      <td>Mitsubishi DLP Black TV Stand - MBS73V</td>\n",
              "      <td>Mitsubishi DLP Black TV Stand - MBS73V/ Matchi...</td>\n",
              "      <td>$549.00</td>\n",
              "    </tr>\n",
              "    <tr>\n",
              "      <th>1078</th>\n",
              "      <td>39175</td>\n",
              "      <td>Logitech Digital Precision PC Gaming Headset -...</td>\n",
              "      <td>Logitech Digital Precision PC Gaming Headset -...</td>\n",
              "      <td>$49.00</td>\n",
              "    </tr>\n",
              "    <tr>\n",
              "      <th>1079</th>\n",
              "      <td>39176</td>\n",
              "      <td>Logitech 2.1 Multimedia Silver Speaker System ...</td>\n",
              "      <td>Logitech 2.1 Multimedia Silver Speaker System ...</td>\n",
              "      <td>NaN</td>\n",
              "    </tr>\n",
              "    <tr>\n",
              "      <th>1080</th>\n",
              "      <td>39179</td>\n",
              "      <td>Linksys Wireless-G Range Expander - WRE54G</td>\n",
              "      <td>Linksys Wireless-G Range Expander - WRE54G/ Su...</td>\n",
              "      <td>$99.00</td>\n",
              "    </tr>\n",
              "  </tbody>\n",
              "</table>\n",
              "<p>1081 rows × 4 columns</p>\n",
              "</div>\n",
              "    <div class=\"colab-df-buttons\">\n",
              "\n",
              "  <div class=\"colab-df-container\">\n",
              "    <button class=\"colab-df-convert\" onclick=\"convertToInteractive('df-b1818c9b-2127-4934-8b57-dac6d965b10e')\"\n",
              "            title=\"Convert this dataframe to an interactive table.\"\n",
              "            style=\"display:none;\">\n",
              "\n",
              "  <svg xmlns=\"http://www.w3.org/2000/svg\" height=\"24px\" viewBox=\"0 -960 960 960\">\n",
              "    <path d=\"M120-120v-720h720v720H120Zm60-500h600v-160H180v160Zm220 220h160v-160H400v160Zm0 220h160v-160H400v160ZM180-400h160v-160H180v160Zm440 0h160v-160H620v160ZM180-180h160v-160H180v160Zm440 0h160v-160H620v160Z\"/>\n",
              "  </svg>\n",
              "    </button>\n",
              "\n",
              "  <style>\n",
              "    .colab-df-container {\n",
              "      display:flex;\n",
              "      gap: 12px;\n",
              "    }\n",
              "\n",
              "    .colab-df-convert {\n",
              "      background-color: #E8F0FE;\n",
              "      border: none;\n",
              "      border-radius: 50%;\n",
              "      cursor: pointer;\n",
              "      display: none;\n",
              "      fill: #1967D2;\n",
              "      height: 32px;\n",
              "      padding: 0 0 0 0;\n",
              "      width: 32px;\n",
              "    }\n",
              "\n",
              "    .colab-df-convert:hover {\n",
              "      background-color: #E2EBFA;\n",
              "      box-shadow: 0px 1px 2px rgba(60, 64, 67, 0.3), 0px 1px 3px 1px rgba(60, 64, 67, 0.15);\n",
              "      fill: #174EA6;\n",
              "    }\n",
              "\n",
              "    .colab-df-buttons div {\n",
              "      margin-bottom: 4px;\n",
              "    }\n",
              "\n",
              "    [theme=dark] .colab-df-convert {\n",
              "      background-color: #3B4455;\n",
              "      fill: #D2E3FC;\n",
              "    }\n",
              "\n",
              "    [theme=dark] .colab-df-convert:hover {\n",
              "      background-color: #434B5C;\n",
              "      box-shadow: 0px 1px 3px 1px rgba(0, 0, 0, 0.15);\n",
              "      filter: drop-shadow(0px 1px 2px rgba(0, 0, 0, 0.3));\n",
              "      fill: #FFFFFF;\n",
              "    }\n",
              "  </style>\n",
              "\n",
              "    <script>\n",
              "      const buttonEl =\n",
              "        document.querySelector('#df-b1818c9b-2127-4934-8b57-dac6d965b10e button.colab-df-convert');\n",
              "      buttonEl.style.display =\n",
              "        google.colab.kernel.accessAllowed ? 'block' : 'none';\n",
              "\n",
              "      async function convertToInteractive(key) {\n",
              "        const element = document.querySelector('#df-b1818c9b-2127-4934-8b57-dac6d965b10e');\n",
              "        const dataTable =\n",
              "          await google.colab.kernel.invokeFunction('convertToInteractive',\n",
              "                                                    [key], {});\n",
              "        if (!dataTable) return;\n",
              "\n",
              "        const docLinkHtml = 'Like what you see? Visit the ' +\n",
              "          '<a target=\"_blank\" href=https://colab.research.google.com/notebooks/data_table.ipynb>data table notebook</a>'\n",
              "          + ' to learn more about interactive tables.';\n",
              "        element.innerHTML = '';\n",
              "        dataTable['output_type'] = 'display_data';\n",
              "        await google.colab.output.renderOutput(dataTable, element);\n",
              "        const docLink = document.createElement('div');\n",
              "        docLink.innerHTML = docLinkHtml;\n",
              "        element.appendChild(docLink);\n",
              "      }\n",
              "    </script>\n",
              "  </div>\n",
              "\n",
              "\n",
              "<div id=\"df-bb881a07-8e0f-4578-95e3-0b5d5e5be569\">\n",
              "  <button class=\"colab-df-quickchart\" onclick=\"quickchart('df-bb881a07-8e0f-4578-95e3-0b5d5e5be569')\"\n",
              "            title=\"Suggest charts\"\n",
              "            style=\"display:none;\">\n",
              "\n",
              "<svg xmlns=\"http://www.w3.org/2000/svg\" height=\"24px\"viewBox=\"0 0 24 24\"\n",
              "     width=\"24px\">\n",
              "    <g>\n",
              "        <path d=\"M19 3H5c-1.1 0-2 .9-2 2v14c0 1.1.9 2 2 2h14c1.1 0 2-.9 2-2V5c0-1.1-.9-2-2-2zM9 17H7v-7h2v7zm4 0h-2V7h2v10zm4 0h-2v-4h2v4z\"/>\n",
              "    </g>\n",
              "</svg>\n",
              "  </button>\n",
              "\n",
              "<style>\n",
              "  .colab-df-quickchart {\n",
              "      --bg-color: #E8F0FE;\n",
              "      --fill-color: #1967D2;\n",
              "      --hover-bg-color: #E2EBFA;\n",
              "      --hover-fill-color: #174EA6;\n",
              "      --disabled-fill-color: #AAA;\n",
              "      --disabled-bg-color: #DDD;\n",
              "  }\n",
              "\n",
              "  [theme=dark] .colab-df-quickchart {\n",
              "      --bg-color: #3B4455;\n",
              "      --fill-color: #D2E3FC;\n",
              "      --hover-bg-color: #434B5C;\n",
              "      --hover-fill-color: #FFFFFF;\n",
              "      --disabled-bg-color: #3B4455;\n",
              "      --disabled-fill-color: #666;\n",
              "  }\n",
              "\n",
              "  .colab-df-quickchart {\n",
              "    background-color: var(--bg-color);\n",
              "    border: none;\n",
              "    border-radius: 50%;\n",
              "    cursor: pointer;\n",
              "    display: none;\n",
              "    fill: var(--fill-color);\n",
              "    height: 32px;\n",
              "    padding: 0;\n",
              "    width: 32px;\n",
              "  }\n",
              "\n",
              "  .colab-df-quickchart:hover {\n",
              "    background-color: var(--hover-bg-color);\n",
              "    box-shadow: 0 1px 2px rgba(60, 64, 67, 0.3), 0 1px 3px 1px rgba(60, 64, 67, 0.15);\n",
              "    fill: var(--button-hover-fill-color);\n",
              "  }\n",
              "\n",
              "  .colab-df-quickchart-complete:disabled,\n",
              "  .colab-df-quickchart-complete:disabled:hover {\n",
              "    background-color: var(--disabled-bg-color);\n",
              "    fill: var(--disabled-fill-color);\n",
              "    box-shadow: none;\n",
              "  }\n",
              "\n",
              "  .colab-df-spinner {\n",
              "    border: 2px solid var(--fill-color);\n",
              "    border-color: transparent;\n",
              "    border-bottom-color: var(--fill-color);\n",
              "    animation:\n",
              "      spin 1s steps(1) infinite;\n",
              "  }\n",
              "\n",
              "  @keyframes spin {\n",
              "    0% {\n",
              "      border-color: transparent;\n",
              "      border-bottom-color: var(--fill-color);\n",
              "      border-left-color: var(--fill-color);\n",
              "    }\n",
              "    20% {\n",
              "      border-color: transparent;\n",
              "      border-left-color: var(--fill-color);\n",
              "      border-top-color: var(--fill-color);\n",
              "    }\n",
              "    30% {\n",
              "      border-color: transparent;\n",
              "      border-left-color: var(--fill-color);\n",
              "      border-top-color: var(--fill-color);\n",
              "      border-right-color: var(--fill-color);\n",
              "    }\n",
              "    40% {\n",
              "      border-color: transparent;\n",
              "      border-right-color: var(--fill-color);\n",
              "      border-top-color: var(--fill-color);\n",
              "    }\n",
              "    60% {\n",
              "      border-color: transparent;\n",
              "      border-right-color: var(--fill-color);\n",
              "    }\n",
              "    80% {\n",
              "      border-color: transparent;\n",
              "      border-right-color: var(--fill-color);\n",
              "      border-bottom-color: var(--fill-color);\n",
              "    }\n",
              "    90% {\n",
              "      border-color: transparent;\n",
              "      border-bottom-color: var(--fill-color);\n",
              "    }\n",
              "  }\n",
              "</style>\n",
              "\n",
              "  <script>\n",
              "    async function quickchart(key) {\n",
              "      const quickchartButtonEl =\n",
              "        document.querySelector('#' + key + ' button');\n",
              "      quickchartButtonEl.disabled = true;  // To prevent multiple clicks.\n",
              "      quickchartButtonEl.classList.add('colab-df-spinner');\n",
              "      try {\n",
              "        const charts = await google.colab.kernel.invokeFunction(\n",
              "            'suggestCharts', [key], {});\n",
              "      } catch (error) {\n",
              "        console.error('Error during call to suggestCharts:', error);\n",
              "      }\n",
              "      quickchartButtonEl.classList.remove('colab-df-spinner');\n",
              "      quickchartButtonEl.classList.add('colab-df-quickchart-complete');\n",
              "    }\n",
              "    (() => {\n",
              "      let quickchartButtonEl =\n",
              "        document.querySelector('#df-bb881a07-8e0f-4578-95e3-0b5d5e5be569 button');\n",
              "      quickchartButtonEl.style.display =\n",
              "        google.colab.kernel.accessAllowed ? 'block' : 'none';\n",
              "    })();\n",
              "  </script>\n",
              "</div>\n",
              "    </div>\n",
              "  </div>\n"
            ]
          },
          "metadata": {},
          "execution_count": 6
        }
      ],
      "source": [
        "products_list = pd.read_csv('ProductDataset.csv')\n",
        "products_list"
      ]
    },
    {
      "cell_type": "code",
      "execution_count": null,
      "id": "14eb4355-9fcd-4795-8406-aee98fd4b11f",
      "metadata": {
        "scrolled": true,
        "id": "14eb4355-9fcd-4795-8406-aee98fd4b11f"
      },
      "outputs": [],
      "source": [
        "for id, row in products_list.iterrows():\n",
        "  # Create Embedding for each conversation row, save them to the database\n",
        "  text_chunk_length = 2500\n",
        "  text_chunks = [row.description[i:i + text_chunk_length] for i in range(0, len(row.description), text_chunk_length)]\n",
        "  for chunk_id, chunk in enumerate(text_chunks):\n",
        "    pricevalue = row.price if isinstance(row.price, str) else \"\"\n",
        "    full_chunk = f\"{chunk} price: {pricevalue}\"\n",
        "    embedding = openai.embeddings.create(input=full_chunk, model=model_id).data[0].embedding\n",
        "    query = SimpleStatement(\n",
        "                f\"\"\"\n",
        "                INSERT INTO {keyspace}.{table}\n",
        "                (product_id, chunk_id, product_name, description, price, openai_description_embedding)\n",
        "                VALUES (%s, %s, %s, %s, %s, %s)\n",
        "                \"\"\"\n",
        "            )\n",
        "    display(row)\n",
        "\n",
        "    session.execute(query, (row.product_id, chunk_id, row.product_name, row.description, pricevalue, embedding))"
      ]
    },
    {
      "cell_type": "markdown",
      "id": "2fc20311-5fde-46b1-b194-4611866f4264",
      "metadata": {
        "id": "2fc20311-5fde-46b1-b194-4611866f4264"
      },
      "source": [
        "\n",
        "\n",
        "---\n",
        "\n",
        "\n",
        "# Start using the index"
      ]
    },
    {
      "cell_type": "markdown",
      "id": "83f833ef-6555-452b-a903-9505c77b75b1",
      "metadata": {
        "id": "83f833ef-6555-452b-a903-9505c77b75b1"
      },
      "source": [
        "In the steps up to this point, we have been creating a schema and loading the table with data, including embeddings we generated through the OpenAI Embedding API.\n",
        "Now we are going to query that table and use the results to give ChatGPT some context to support it's response."
      ]
    },
    {
      "cell_type": "markdown",
      "id": "466ca4e3-7bb6-485b-ac3a-788c1fe3658d",
      "metadata": {
        "id": "466ca4e3-7bb6-485b-ac3a-788c1fe3658d"
      },
      "source": [
        "# Convert a query string into a text embedding to use as part of the query"
      ]
    },
    {
      "cell_type": "markdown",
      "id": "37217051-b389-49eb-8b5b-6efb14d9f8c4",
      "metadata": {
        "id": "37217051-b389-49eb-8b5b-6efb14d9f8c4"
      },
      "source": [
        "This is where the real fun starts.  Provide a question or request to be used as the query.  The source sample database is mostly consumer electronics and appliances, so imagine you're talking to a customer service rep at Best Buy or another electronics store.\n",
        "\n",
        "Here we use the same API that we used to calculate embeddings for each row in the database, but this time we are using your input question to calculate a vector to use in a query."
      ]
    },
    {
      "cell_type": "code",
      "execution_count": null,
      "id": "e891b68c-5e31-4b6f-915f-f05f684529b4",
      "metadata": {
        "scrolled": true,
        "id": "e891b68c-5e31-4b6f-915f-f05f684529b4"
      },
      "outputs": [],
      "source": [
        "customer_input = \"What equipement would you recommend for a computer workstation setup costing less than $2000?\"\n",
        "\n",
        "embedding = openai.embeddings.create(input=customer_input, model=model_id).data[0].embedding\n",
        "display(embedding)"
      ]
    },
    {
      "cell_type": "markdown",
      "id": "1036a24f-d527-410b-b73c-d2e191b792a5",
      "metadata": {
        "id": "1036a24f-d527-410b-b73c-d2e191b792a5"
      },
      "source": [
        "Let's take a look at what a query against a vector index could look like.  The query vector has the same dimensions (number of entries in the list) as the embeddings we generated a few steps ago for each row in the database."
      ]
    },
    {
      "cell_type": "code",
      "execution_count": null,
      "id": "ed786879-c639-458c-84e4-b657b2fba9a1",
      "metadata": {
        "scrolled": true,
        "id": "ed786879-c639-458c-84e4-b657b2fba9a1"
      },
      "outputs": [],
      "source": [
        "query = SimpleStatement(\n",
        "    f\"\"\"\n",
        "    SELECT *\n",
        "    FROM {keyspace}.{table}\n",
        "    ORDER BY openai_description_embedding ANN OF {embedding} LIMIT 5;\n",
        "    \"\"\"\n",
        "    )\n",
        "display(query)"
      ]
    },
    {
      "cell_type": "markdown",
      "id": "93edd66f-4ffc-4133-943e-b0266c704f49",
      "metadata": {
        "id": "93edd66f-4ffc-4133-943e-b0266c704f49"
      },
      "source": [
        "# Find the top 5 results using ANN Similarity"
      ]
    },
    {
      "cell_type": "code",
      "execution_count": 10,
      "id": "6be4acfe-bd54-462c-9f96-acae2228d633",
      "metadata": {
        "id": "6be4acfe-bd54-462c-9f96-acae2228d633",
        "colab": {
          "base_uri": "https://localhost:8080/"
        },
        "outputId": "fd4911f7-a1b2-4cd3-f9a8-1e1f049b11e6"
      },
      "outputs": [
        {
          "output_type": "stream",
          "name": "stderr",
          "text": [
            "WARNING:cassandra.protocol:Server warning: Top-K queries can only be run with consistency level ONE / LOCAL_ONE / NODE_LOCAL. Consistency level LOCAL_QUORUM was requested. Downgrading the consistency level to LOCAL_ONE.\n"
          ]
        },
        {
          "output_type": "stream",
          "name": "stdout",
          "text": [
            "37812, Sony VAIO RT Series Black All-In-One Desktop Computer - VGCRT150Y, Sony VAIO RT Series Black All-In-One Desktop Computer - VGCRT150Y/ 2.66GHz Intel Core 2 Quad Q9400 Processor/ 8GB Memory/ Built-In CompactFlash Media Slot/ 1TB Serial ATA Hard Drive/ 25.5' XBRITE-Full HD LCD/ Integrated Stereo A2DP Bluetooth Technology/ 6MB L2 Cache/ Microsoft Windows Vista Ultimate 64-Bit/ Black Finish, $3,999.00\n",
            "\n",
            "38400, Sony VAIO JS Series Black All-In-One Desktop Computer - VGCJS130JB, Sony VAIO JS Series Black All-In-One Desktop Computer - VGCJS130JB/ 2.5GHz Intel Pentium Dual-Core Processor E5200/ 20.1' (1680 x 1050) Widescreen WSXGA+ XBRITE-HiColor Technology Display/ 500GB Serial ATA 7200rpm Hard Drive/ Built-In 1.3 Megapixel MOTION EYE Camera And Microphone With Face-Tracking Technology/ 4GB PC2-6400 (2GBx2) Installed Memory/ 800MHz Front Side Bus Speed/ 2MB L2 Cache/ Genuine Microsoft Windows Vista Home Premium 64-Bit/ Black Finish, $1,099.00\n",
            "\n",
            "37877, Apple MacBook Pro 2.4GHz Intel Core 2 Duo Silver Notebook Computer - MB470LLA, Apple MacBook Pro 2.4GHz Intel Core 2 Duo Silver Notebook Computer - MB470LLA/ 2.4GHz Intel Core 2 Duo Processor/ 250GB 5400-RPM Serial ATA Hard Drive/ 15.4' LED-Backlit Glossy Widescreen Display/ Built-In iSight Camera/ Built-In AirPort Extreme Wi-Fi And Bluetooth/ NVIDIA GeForce 9600M GT Graphics Processor/ Dual Display And Video Mirroring/ Multi-Touch Trackpad/ 85W MagSafe Power Adapter/ Mini DisplayPort/ Mac OS X v10.5 Leopard/ Silver Finish, $1,999.00\n",
            "\n",
            "37811, Sony VAIO LV Series Silver All-In-One Desktop Computer - VGCLV150J, Sony VAIO LV Series Silver All-In-One Desktop Computer - VGCLV150J/ 2.53GHz Intel Core 2 Duo E7200 Processor/ 4GB Memory/ Built-In 1.3 MP MOTION EYE Camera And Microphone/ 500GB Serial ATA Hard Drive/ 24' XBRITE-Full HD LCD/ Integrated Stereo A2DP Bluetooth Technology/ Two Built-In 5.5 Watt Stereo Speakers/ Microsoft Windows Vista Home Premium 64-Bit/ Silver Finish, $1,899.00\n",
            "\n",
            "37872, Apple MacBook 2.4GHz Intel Core 2 Duo Silver Notebook Computer - MB467LLA, Apple MacBook 2.4GHz Intel Core 2 Duo Silver Notebook Computer - MB467LLA/ 2.4GHz Intel Core 2 Duo Processor/ 250GB 5400-RPM Serial ATA Hard Drive/ 13' LED-Backlit Glossy Widescreen Display/ Built-In iSight Camera/ Built-In AirPort Extreme Wi-Fi And Bluetooth/ NVIDIA GeForce 9400M Graphics Processor/ Extended Desktop And Video Mirroring/ Multi-Touch Trackpad/ 60W MagSafe Power Adapter/ Mini DisplayPort/ Mac OS X v10.5 Leopard/ Silver Finish, $1,599.00\n",
            "\n"
          ]
        }
      ],
      "source": [
        "results = session.execute(query)\n",
        "top_5_products = results._current_rows\n",
        "\n",
        "for row in top_5_products:\n",
        "  print(f\"\"\"{row.product_id}, {row.product_name}, {row.description}, {row.price}\\n\"\"\")"
      ]
    },
    {
      "cell_type": "markdown",
      "id": "cbffc89a-b9c8-40d5-90b8-f2493eded2d8",
      "metadata": {
        "id": "cbffc89a-b9c8-40d5-90b8-f2493eded2d8"
      },
      "source": [
        "# Ask ChatGPT for some help (Prompt Engineering)"
      ]
    },
    {
      "cell_type": "markdown",
      "id": "24d02afb-13b1-4c71-8610-90768e21989e",
      "metadata": {
        "id": "24d02afb-13b1-4c71-8610-90768e21989e"
      },
      "source": [
        "- Here we build a prompt with which we'll query ChatGPT.  Note the \"roles\" in this little conversation give the LLM more context about who that part of the conversation is coming from.\n",
        "- This may take 10-20 seconds to return, so be patient."
      ]
    },
    {
      "cell_type": "code",
      "execution_count": 11,
      "id": "6f517ae3-0f27-418b-93d4-6eb02a781080",
      "metadata": {
        "id": "6f517ae3-0f27-418b-93d4-6eb02a781080",
        "colab": {
          "base_uri": "https://localhost:8080/"
        },
        "outputId": "afab403e-26f8-4b1a-daa1-f28b63f72e61"
      },
      "outputs": [
        {
          "output_type": "stream",
          "name": "stdout",
          "text": [
            "For a computer workstation setup costing less than $2000, I would highly recommend the following:\n",
            "\n",
            "1. Sony VAIO LV Series Silver All-In-One Desktop Computer - VGCLV150J:\n",
            "   - It has a powerful 2.53GHz Intel Core 2 Duo E7200 Processor, ensuring smooth performance for your tasks.\n",
            "   - Comes with 4GB of memory, providing sufficient multitasking capabilities.\n",
            "   - Offers a 500GB Serial ATA hard drive, giving you plenty of storage space for your files.\n",
            "   - The 24\" XBRITE-Full HD LCD screen provides a vibrant and immersive visual experience.\n",
            "   - It has an integrated stereo A2DP Bluetooth technology for easy connectivity with other devices.\n",
            "   - Running on Microsoft Windows Vista Home Premium 64-Bit, it offers a user-friendly operating system.\n",
            "\n",
            "2. Apple MacBook 2.4GHz Intel Core 2 Duo Silver Notebook Computer - MB467LLA:\n",
            "   - Featuring a 2.4GHz Intel Core 2 Duo Processor, this MacBook provides fast and efficient performance.\n",
            "   - The 13\" LED-Backlit Glossy Widescreen Display offers a compact yet high-quality visual experience.\n",
            "   - Comes with a 250GB 5400-RPM Serial ATA hard drive, providing ample storage for your files.\n",
            "   - It has a built-in iSight camera and AirPort Extreme Wi-Fi and Bluetooth for seamless connectivity.\n",
            "   - The NVIDIA GeForce 9400M Graphics Processor ensures smooth graphics performance.\n",
            "   - With the multi-touch trackpad, you can easily navigate and interact with your MacBook.\n",
            "\n",
            "These recommended options combine performance, storage capacity, display quality, and connectivity features to enhance your workstation experience.\n"
          ]
        }
      ],
      "source": [
        "\n",
        "message_objects = []\n",
        "message_objects.append({\"role\":\"system\",\n",
        "                        \"content\":\"You're a chatbot helping customers with questions and helping them with product recommendations\"})\n",
        "\n",
        "message_objects.append({\"role\":\"user\",\n",
        "                        \"content\": customer_input})\n",
        "\n",
        "message_objects.append({\"role\":\"user\",\n",
        "                        \"content\": \"Please give me a detailed explanation of your recommendations\"})\n",
        "\n",
        "message_objects.append({\"role\":\"user\",\n",
        "                        \"content\": \"Please be friendly and talk to me like a person, don't just give me a list of recommendations\"})\n",
        "\n",
        "message_objects.append({\"role\": \"assistant\",\n",
        "                        \"content\": \"I found these 3 products I would recommend\"})\n",
        "\n",
        "products_list = []\n",
        "\n",
        "for row in top_5_products:\n",
        "    brand_dict = {'role': \"assistant\", \"content\": f\"{row.description}\"}\n",
        "    products_list.append(brand_dict)\n",
        "\n",
        "message_objects.extend(products_list)\n",
        "message_objects.append({\"role\": \"assistant\", \"content\":\"Here's my summarized recommendation of products, and why it would suit you:\"})\n",
        "\n",
        "completion = openai.chat.completions.create(\n",
        "  model=\"gpt-3.5-turbo\",\n",
        "  messages=message_objects\n",
        ")\n",
        "print(completion.choices[0].message.content)\n"
      ]
    },
    {
      "cell_type": "code",
      "execution_count": null,
      "id": "ac53ce94-4c34-4523-8f86-55f3a62c8d1b",
      "metadata": {
        "id": "ac53ce94-4c34-4523-8f86-55f3a62c8d1b"
      },
      "outputs": [],
      "source": []
    }
  ],
  "metadata": {
    "kernelspec": {
      "display_name": "Python 3 (ipykernel)",
      "language": "python",
      "name": "python3"
    },
    "language_info": {
      "codemirror_mode": {
        "name": "ipython",
        "version": 3
      },
      "file_extension": ".py",
      "mimetype": "text/x-python",
      "name": "python",
      "nbconvert_exporter": "python",
      "pygments_lexer": "ipython3",
      "version": "3.10.6"
    },
    "colab": {
      "provenance": [],
      "include_colab_link": true
    }
  },
  "nbformat": 4,
  "nbformat_minor": 5
}